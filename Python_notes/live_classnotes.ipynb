{
 "cells": [
  {
   "cell_type": "code",
   "execution_count": null,
   "id": "53b432a5",
   "metadata": {},
   "outputs": [],
   "source": []
  },
  {
   "cell_type": "markdown",
   "id": "fafc936d",
   "metadata": {},
   "source": [
    "# Live Notes :\n",
    "\n",
    "## Python :\n",
    "\n",
    "- Python is an interpreted language, which means code is executed line by line, making it easier to debug and test. However, Python can also be compiled into bytecode for improved performance using tools like PyInstaller, Cython, or Nuitka.\n",
    "\n",
    "\n",
    "### Variables:\n",
    "\n",
    "- In Python, a variable is a name that refers to a value. You can think of it as a container that holds data. Unlike some other languages, Python doesn't require you to explicitly declare the type of a variable before using it. You simply assign a value to a variable using the equals sign '='.\n",
    "\n",
    "\n",
    "## Data Types In Python :\n",
    "\n",
    "- Data types are the different kinds of values that can be stored and used in a program.\n",
    "\n",
    "\n",
    "![alt text](image.png)\n",
    "\n",
    "1. Numeric :\n",
    "\n",
    "- Numeric data type represent data number datatype.\n",
    "\n",
    "    1) Integer:\n",
    "\n",
    "     - It represent  int value e.g. 5,110, 2,1.\n",
    "    2) Complex number:\n",
    "     - Represent complex number wit real and imagenary parts. e.g 2+3j, -1, -1J.\n",
    "\n",
    "    3) Float :\n",
    "     - Float represents floting point number.\n",
    "      - e.g. 20.5, 2.5, 4.5\n",
    "\n",
    "\n",
    "2. String :\n",
    "- String type represent sequence or collection of charachters.\n",
    " - e.g. \"Hello\" \"1123\"\n",
    "\n",
    "\n",
    "3. Boolean :\n",
    " - Represent boolean value which can be either true or false.\n",
    "\n",
    "\n",
    "#### Type() :\n",
    " - To get type of variable \n",
    "\n",
    " \n",
    "\n",
    " \n",
    "\n",
    "      \n"
   ]
  },
  {
   "cell_type": "code",
   "execution_count": 1,
   "id": "5cd01cb9",
   "metadata": {},
   "outputs": [
    {
     "data": {
      "text/plain": [
       "str"
      ]
     },
     "execution_count": 1,
     "metadata": {},
     "output_type": "execute_result"
    }
   ],
   "source": [
    "var_name = \"name\"\n",
    "type(var_name)"
   ]
  },
  {
   "cell_type": "markdown",
   "id": "8970b106",
   "metadata": {},
   "source": [
    "### Variable :"
   ]
  },
  {
   "cell_type": "markdown",
   "id": "de6451d1",
   "metadata": {},
   "source": [
    "Var_name = \"name\""
   ]
  },
  {
   "cell_type": "markdown",
   "id": "13129083",
   "metadata": {},
   "source": [
    "### Mutliple variable & multiple assignment :\n"
   ]
  },
  {
   "cell_type": "code",
   "execution_count": 2,
   "id": "e982e088",
   "metadata": {},
   "outputs": [],
   "source": [
    "var1, var2, var3 = \"a\", 1, 2.0\n"
   ]
  },
  {
   "cell_type": "markdown",
   "id": "576d82a5",
   "metadata": {},
   "source": [
    "Switch the value of a to b and b to a.\n",
    "\n",
    "1. By creating 3rd variable \n"
   ]
  },
  {
   "cell_type": "code",
   "execution_count": 10,
   "id": "062b2d04",
   "metadata": {},
   "outputs": [
    {
     "name": "stdout",
     "output_type": "stream",
     "text": [
      "20\n",
      "10\n"
     ]
    }
   ],
   "source": [
    "a = 10\n",
    "b = 20\n",
    "c = a\n",
    "a = b\n",
    "b = c\n",
    "print(a)\n",
    "print(b)\n"
   ]
  },
  {
   "cell_type": "markdown",
   "id": "60f236ff",
   "metadata": {},
   "source": [
    "  \n",
    "2. Without Creating Thrid Variable :\n"
   ]
  },
  {
   "cell_type": "code",
   "execution_count": 11,
   "id": "7b5e03c4",
   "metadata": {},
   "outputs": [
    {
     "name": "stdout",
     "output_type": "stream",
     "text": [
      "10 20\n"
     ]
    }
   ],
   "source": [
    "a , b = b, a\n",
    "print(a,b)"
   ]
  },
  {
   "cell_type": "markdown",
   "id": "100dfacb",
   "metadata": {},
   "source": [
    "## Data Type Conversion :\n",
    "\n",
    "- Data type conversion is a conversion of one data type to another data type.\n",
    "\n",
    "1. Implicit :(Automatic conversion)\n",
    "\n",
    "- An implicit type of conversion is a conversion performd by python interpreter without programmers intervention.\n",
    "\n",
    "- when we create variable it automatically set data type \n"
   ]
  },
  {
   "cell_type": "code",
   "execution_count": null,
   "id": "f954d6b0",
   "metadata": {},
   "outputs": [],
   "source": [
    "a = 4     # --> Int\n",
    "b = \"name\"# --> Str\n",
    "c = 4.0   # --> float\n"
   ]
  },
  {
   "cell_type": "markdown",
   "id": "092cee7f",
   "metadata": {},
   "source": [
    " 2.  Explicit :  \n",
    " - An explicit type conversion is user defined that forces an expression or to be of specific data type.\n",
    " "
   ]
  },
  {
   "cell_type": "code",
   "execution_count": 13,
   "id": "a8d61088",
   "metadata": {},
   "outputs": [
    {
     "name": "stdout",
     "output_type": "stream",
     "text": [
      "<class 'str'>\n",
      "<class 'int'>\n"
     ]
    }
   ],
   "source": [
    "a = \"4\"\n",
    "print(type(a))\n",
    "\n",
    "b= int(a)\n",
    "print(type(b))"
   ]
  },
  {
   "cell_type": "markdown",
   "id": "a21b4578",
   "metadata": {},
   "source": [
    "### Algorithms , Flowcharts and Pseducode : \n",
    "\n",
    "1. Algorithms :\n",
    " - Breaking down task into steps known as algorithm \n",
    "\n",
    " - Sequence of steps to solve the problem \n",
    "\n",
    " 2. Flowcharts :\n",
    " -  Start and stop in given and i middle steps are involved\n",
    "\n",
    " 3. Pseducode :\n",
    "  - Plain language way to describe steps of an algorithm without using actual syntax.\n",
    "\n",
    "\n",
    "\n",
    " ### Mutability :(changeble)\n",
    "   - Mutable we can make changes after creating. e.g. List\n",
    "\n",
    "### immutable :(unchangeble) :\n",
    "   - We cannot make chnages once we created e.g. Float, str, int, bytes, tuples.\n",
    "\n"
   ]
  },
  {
   "cell_type": "markdown",
   "id": "57897097",
   "metadata": {},
   "source": [
    "## Tuples : (Data Structure)\n",
    "- Tuples are orderd collection of heterogenous value, which are immutable.\n",
    "\n",
    " - Variable stored in strctured format , denoted by ().\n",
    " - itarable - Can loop through it.\n",
    " - We cannot use append(), insert(), pop(), remove() methods in tuple if we want to make changes in tupple we need to convert it into list and then we can use these methods.\n",
    " \n"
   ]
  },
  {
   "cell_type": "code",
   "execution_count": null,
   "id": "350b709a",
   "metadata": {},
   "outputs": [
    {
     "name": "stdout",
     "output_type": "stream",
     "text": [
      "(2, 3, 323, 212, 3, 56, 8, 1)\n"
     ]
    }
   ],
   "source": [
    "tuple_1 = (2,3,323,212,3,56,8) \n",
    "\n",
    "list_1 = list(tuple_1)\n",
    "\n",
    "list_1.append(1)\n",
    "\n",
    "tuple_1 = tuple(list_1)\n",
    "\n",
    "print(tuple_1)"
   ]
  },
  {
   "cell_type": "markdown",
   "id": "aab372a7",
   "metadata": {},
   "source": [
    "- Join Two Tuples :"
   ]
  },
  {
   "cell_type": "code",
   "execution_count": 16,
   "id": "c81f9af1",
   "metadata": {},
   "outputs": [
    {
     "data": {
      "text/plain": [
       "tuple"
      ]
     },
     "execution_count": 16,
     "metadata": {},
     "output_type": "execute_result"
    }
   ],
   "source": [
    "t1 = (1,2,3,4)\n",
    "t2 = (4,5,6,7,8)\n",
    "\n",
    "t3= t1 + t2\n",
    "type(t3)"
   ]
  },
  {
   "cell_type": "markdown",
   "id": "14ada672",
   "metadata": {},
   "source": [
    "- Repetation of tuple :\n",
    "  -  We can repeate tuple multiple times by multiplying it.\n"
   ]
  },
  {
   "cell_type": "code",
   "execution_count": null,
   "id": "8fe2e377",
   "metadata": {},
   "outputs": [],
   "source": [
    "t4 = t3 *3 \n"
   ]
  },
  {
   "cell_type": "markdown",
   "id": "a43f71b2",
   "metadata": {},
   "source": [
    "### Membership Function :\n",
    "\n",
    " 1. in :\n",
    "   - IN is used to check specific element present in list or not\n",
    "   It will show resukt in boolean vale true or false"
   ]
  },
  {
   "cell_type": "code",
   "execution_count": 20,
   "id": "dae8dd5d",
   "metadata": {},
   "outputs": [
    {
     "data": {
      "text/plain": [
       "True"
      ]
     },
     "execution_count": 20,
     "metadata": {},
     "output_type": "execute_result"
    }
   ],
   "source": [
    "tuple_1 = (2,3,323,212,3,56,8)\n",
    "\n",
    "2 in tuple_1"
   ]
  },
  {
   "cell_type": "markdown",
   "id": "61f910cb",
   "metadata": {},
   "source": [
    " 2. Not in :\n",
    "  - Not in check whether value is present in tuple or not.\n",
    "  - If value is there result will fasle"
   ]
  },
  {
   "cell_type": "code",
   "execution_count": null,
   "id": "d7cb475c",
   "metadata": {},
   "outputs": [
    {
     "data": {
      "text/plain": [
       "False"
      ]
     },
     "execution_count": 22,
     "metadata": {},
     "output_type": "execute_result"
    }
   ],
   "source": [
    "2 not in tuple_1"
   ]
  },
  {
   "cell_type": "markdown",
   "id": "59da6772",
   "metadata": {},
   "source": [
    "Inbuilt functions :\n",
    "\n",
    "1. length() : \n",
    "  - len() calculate the length of object\n",
    "  "
   ]
  },
  {
   "cell_type": "code",
   "execution_count": 25,
   "id": "e066df8a",
   "metadata": {},
   "outputs": [
    {
     "data": {
      "text/plain": [
       "7"
      ]
     },
     "execution_count": 25,
     "metadata": {},
     "output_type": "execute_result"
    }
   ],
   "source": [
    "len(list_1)\n",
    "len(tuple_1)"
   ]
  },
  {
   "cell_type": "markdown",
   "id": "2d256383",
   "metadata": {},
   "source": [
    "2. max() :\n",
    " - Find max number.\n",
    " "
   ]
  },
  {
   "cell_type": "code",
   "execution_count": 27,
   "id": "a428d185",
   "metadata": {},
   "outputs": [
    {
     "name": "stdout",
     "output_type": "stream",
     "text": [
      "[2, 3, 323, 212, 3, 56, 8, 1]\n"
     ]
    },
    {
     "data": {
      "text/plain": [
       "323"
      ]
     },
     "execution_count": 27,
     "metadata": {},
     "output_type": "execute_result"
    }
   ],
   "source": [
    "print(list_1)\n",
    "max(list_1)"
   ]
  },
  {
   "cell_type": "markdown",
   "id": "69f68758",
   "metadata": {},
   "source": [
    "3. Min():\n",
    "\n",
    "- Find minimum number \n",
    "\n"
   ]
  },
  {
   "cell_type": "code",
   "execution_count": 28,
   "id": "2efe2e35",
   "metadata": {},
   "outputs": [
    {
     "data": {
      "text/plain": [
       "1"
      ]
     },
     "execution_count": 28,
     "metadata": {},
     "output_type": "execute_result"
    }
   ],
   "source": [
    "min(list_1)"
   ]
  },
  {
   "cell_type": "markdown",
   "id": "f6346815",
   "metadata": {},
   "source": [
    "### Indexing & Slicing :\n",
    "\n",
    "1. Indexing : (Position numbers)\n",
    "\n",
    "    - Every value will be store in index number, every value willl have number.\n",
    "\n",
    "    - list = [1(0), 2(1), 3(2),5(3), \"a\"(4)] ----(Positive indexing start from first element)\n",
    "\n",
    "    - list = [1(-4), 2(-4), 3(-3),5(-2), \"a\"(-1)] ---(negetive indexing start from last element of list)\n",
    "\n",
    "    - To access items in list by using index number [] e.g. list_1[2], this will show 3rd item in list"
   ]
  },
  {
   "cell_type": "code",
   "execution_count": null,
   "id": "94947440",
   "metadata": {},
   "outputs": [
    {
     "name": "stdout",
     "output_type": "stream",
     "text": [
      "1\n",
      "2\n",
      "20\n"
     ]
    }
   ],
   "source": [
    "list_2 = [1,2,3,4,5,6,7,8,9,10,11,12,13,14,15,16,17,18,19,20]\n",
    "\n",
    "print(list_2[0]) # gives 1st element in list\n",
    "\n",
    "print(list_2[1]) # gives 2nd elemwnt in list\n",
    "\n",
    "print(list_2[-1])# gives last element from list by negetive indexing\n"
   ]
  },
  {
   "cell_type": "markdown",
   "id": "3bf0b8dc",
   "metadata": {},
   "source": [
    "- Access element by reffering index :\n"
   ]
  },
  {
   "cell_type": "code",
   "execution_count": 50,
   "id": "5b29ee08",
   "metadata": {},
   "outputs": [
    {
     "data": {
      "text/plain": [
       "3"
      ]
     },
     "execution_count": 50,
     "metadata": {},
     "output_type": "execute_result"
    }
   ],
   "source": [
    "list_2.index(4) # instead of index no we can refer by its value(e.g. we want to check what is index no for 4 element in list)"
   ]
  },
  {
   "cell_type": "markdown",
   "id": "595a6f6e",
   "metadata": {},
   "source": [
    "2 . Slicing : \n",
    "\n",
    "  - Taking part of something using its position(index no)\n",
    "  - var_name[start_index : stop_index : step_index]\n",
    "  - start_index - is mandetory\n",
    "  - stop_index - is optional\n",
    "  - step_index - optional\n",
    "  - When we select range start_index is included but stop_index is excluded.\n",
    "  - 1 is default for step.\n"
   ]
  },
  {
   "cell_type": "code",
   "execution_count": 47,
   "id": "48c9605d",
   "metadata": {},
   "outputs": [
    {
     "name": "stdout",
     "output_type": "stream",
     "text": [
      "[20, 19, 18, 17, 16, 15, 14, 13, 12, 11, 10, 9, 8, 7, 6, 5, 4, 3, 2, 1]\n",
      "[6, 7, 8, 9, 10, 11, 12, 13, 14, 15, 16, 17, 18, 19, 20]\n",
      "20\n",
      "[1, 2, 3, 4, 5, 6, 7, 8, 9, 10, 11, 12, 13, 14, 15, 16, 17, 18, 19]\n",
      "[1, 3, 5, 7, 9, 11, 13, 15, 17, 19]\n",
      "[1, 4, 7, 10, 13, 16, 19]\n",
      "[13, 14, 15, 16, 17, 18, 19, 20]\n",
      "[17, 18, 19, 20]\n"
     ]
    }
   ],
   "source": [
    "list_2 = [1,2,3,4,5,6,7,8,9,10,11,12,13,14,15,16,17,18,19,20]\n",
    "\n",
    "print(list_2[ : :-1]) # Select entire list\n",
    "print(list_2[5:])     # Select from 5 element to end os list\n",
    "print(list_2[-1])     # Select last element of list\n",
    "print(list_2[ :-1])   # Gives all element except last one \n",
    "print(list_2[: : 2])  # Gives every 2nd element use 2 as step\n",
    "print(list_2[: : 3])  # Gives every 3rd element use 3 as step\n",
    "print(list_2[-8:])    # Gives elements starting from the 8th position from the end till the end of the list.\n",
    "print(list_2[-4:])    # Gives last 4 element from list.\n",
    "\n",
    "\n",
    "\n"
   ]
  },
  {
   "cell_type": "markdown",
   "id": "8e17f0c3",
   "metadata": {},
   "source": [
    "Q1. Given word = \"Python\", extract \"Pyt\"."
   ]
  },
  {
   "cell_type": "code",
   "execution_count": 54,
   "id": "7ccff77a",
   "metadata": {},
   "outputs": [
    {
     "data": {
      "text/plain": [
       "'Pyt'"
      ]
     },
     "execution_count": 54,
     "metadata": {},
     "output_type": "execute_result"
    }
   ],
   "source": [
    "word = \"Python\"\n",
    "\n",
    "word[0:3]"
   ]
  },
  {
   "cell_type": "markdown",
   "id": "8e0e0fbc",
   "metadata": {},
   "source": [
    "Q2. From \"Programming\", get \"gram\".\n"
   ]
  },
  {
   "cell_type": "code",
   "execution_count": 53,
   "id": "153b34ec",
   "metadata": {},
   "outputs": [
    {
     "data": {
      "text/plain": [
       "'gram'"
      ]
     },
     "execution_count": 53,
     "metadata": {},
     "output_type": "execute_result"
    }
   ],
   "source": [
    "word = \"Programming\"\n",
    "\n",
    "word[3:7]"
   ]
  },
  {
   "cell_type": "markdown",
   "id": "ccc5b238",
   "metadata": {},
   "source": [
    "Q3. Reverse \"HelloWorld\" using slicing.\n"
   ]
  },
  {
   "cell_type": "code",
   "execution_count": 59,
   "id": "f80ae7ef",
   "metadata": {},
   "outputs": [
    {
     "data": {
      "text/plain": [
       "'dlroWolleH'"
      ]
     },
     "execution_count": 59,
     "metadata": {},
     "output_type": "execute_result"
    }
   ],
   "source": [
    "strng = \"HelloWorld\"\n",
    "strng[: : -1]"
   ]
  },
  {
   "cell_type": "markdown",
   "id": "9eb04c52",
   "metadata": {},
   "source": [
    "Q4. Extract every 2nd character from \"DataScience\".\n"
   ]
  },
  {
   "cell_type": "code",
   "execution_count": 60,
   "id": "f150f3bd",
   "metadata": {},
   "outputs": [
    {
     "data": {
      "text/plain": [
       "'dtsine'"
      ]
     },
     "execution_count": 60,
     "metadata": {},
     "output_type": "execute_result"
    }
   ],
   "source": [
    "word_1 = \"datascience\"\n",
    "\n",
    "word_1[::2]"
   ]
  },
  {
   "cell_type": "markdown",
   "id": "b5e897b1",
   "metadata": {},
   "source": [
    "Q4. From \"Artificial\", get the substring \"Art\".\n"
   ]
  },
  {
   "cell_type": "code",
   "execution_count": 61,
   "id": "9202c30f",
   "metadata": {},
   "outputs": [
    {
     "data": {
      "text/plain": [
       "'Art'"
      ]
     },
     "execution_count": 61,
     "metadata": {},
     "output_type": "execute_result"
    }
   ],
   "source": [
    "word = \"Artificial\"\n",
    "word[:3]"
   ]
  },
  {
   "cell_type": "markdown",
   "id": "8da38339",
   "metadata": {},
   "source": [
    "Q5. From \"MachineLearning\", extract \"Learning\" using negative slicing.\n"
   ]
  },
  {
   "cell_type": "code",
   "execution_count": 64,
   "id": "1b6ee619",
   "metadata": {},
   "outputs": [
    {
     "data": {
      "text/plain": [
       "'Learning'"
      ]
     },
     "execution_count": 64,
     "metadata": {},
     "output_type": "execute_result"
    }
   ],
   "source": [
    "word = \"MachineLearning\"\n",
    "word[-8:]"
   ]
  },
  {
   "cell_type": "markdown",
   "id": "c83e9c77",
   "metadata": {},
   "source": [
    "Q6. Get \"thon\" from \"Python\" without using word[2:].\n"
   ]
  },
  {
   "cell_type": "code",
   "execution_count": null,
   "id": "b8451da5",
   "metadata": {},
   "outputs": [
    {
     "data": {
      "text/plain": [
       "'thon'"
      ]
     },
     "execution_count": 66,
     "metadata": {},
     "output_type": "execute_result"
    }
   ],
   "source": [
    "word = \"Python\"\n",
    "word[-4:] "
   ]
  },
  {
   "cell_type": "markdown",
   "id": "a90b80c9",
   "metadata": {},
   "source": []
  }
 ],
 "metadata": {
  "kernelspec": {
   "display_name": "Python 3",
   "language": "python",
   "name": "python3"
  },
  "language_info": {
   "codemirror_mode": {
    "name": "ipython",
    "version": 3
   },
   "file_extension": ".py",
   "mimetype": "text/x-python",
   "name": "python",
   "nbconvert_exporter": "python",
   "pygments_lexer": "ipython3",
   "version": "3.13.5"
  }
 },
 "nbformat": 4,
 "nbformat_minor": 5
}
