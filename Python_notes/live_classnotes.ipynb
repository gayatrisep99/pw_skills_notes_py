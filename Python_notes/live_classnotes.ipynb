{
 "cells": [
  {
   "cell_type": "code",
   "execution_count": null,
   "id": "53b432a5",
   "metadata": {},
   "outputs": [],
   "source": []
  },
  {
   "cell_type": "markdown",
   "id": "fafc936d",
   "metadata": {},
   "source": [
    "# Live Notes :\n",
    "\n",
    "## Python :\n",
    "\n",
    "- Python is an interpreted language, which means code is executed line by line, making it easier to debug and test. However, Python can also be compiled into bytecode for improved performance using tools like PyInstaller, Cython, or Nuitka.\n",
    "\n",
    "\n",
    "### Variables:\n",
    "\n",
    "- In Python, a variable is a name that refers to a value. You can think of it as a container that holds data. Unlike some other languages, Python doesn't require you to explicitly declare the type of a variable before using it. You simply assign a value to a variable using the equals sign '='.\n",
    "\n",
    "\n",
    "## Data Types In Python :\n",
    "\n",
    "- Data types are the different kinds of values that can be stored and used in a program.\n",
    "\n",
    "\n",
    "![alt text](image.png)\n",
    "\n",
    "1. Numeric :\n",
    "\n",
    "- Numeric data type represent data number datatype.\n",
    "\n",
    "    1) Integer:\n",
    "\n",
    "     - It represent  int value e.g. 5,110, 2,1.\n",
    "    2) Complex number:\n",
    "     - Represent complex number wit real and imagenary parts. e.g 2+3j, -1, -1J.\n",
    "\n",
    "    3) Float :\n",
    "     - Float represents floting point number.\n",
    "      - e.g. 20.5, 2.5, 4.5\n",
    "\n",
    "\n",
    "2. String :\n",
    "- String type represent sequence or collection of charachters.\n",
    " - e.g. \"Hello\" \"1123\"\n",
    "\n",
    "\n",
    "3. Boolean :\n",
    " - Represent boolean value which can be either true or false.\n",
    "\n",
    "\n",
    "#### Type() :\n",
    " - To get type of variable \n",
    "\n",
    " \n",
    "\n",
    " \n",
    "\n",
    "      \n"
   ]
  },
  {
   "cell_type": "code",
   "execution_count": 1,
   "id": "5cd01cb9",
   "metadata": {},
   "outputs": [
    {
     "data": {
      "text/plain": [
       "str"
      ]
     },
     "execution_count": 1,
     "metadata": {},
     "output_type": "execute_result"
    }
   ],
   "source": [
    "var_name = \"name\"\n",
    "type(var_name)"
   ]
  },
  {
   "cell_type": "markdown",
   "id": "8970b106",
   "metadata": {},
   "source": [
    "### Variable :"
   ]
  },
  {
   "cell_type": "markdown",
   "id": "de6451d1",
   "metadata": {},
   "source": [
    "Var_name = \"name\""
   ]
  },
  {
   "cell_type": "markdown",
   "id": "13129083",
   "metadata": {},
   "source": [
    "### Mutliple variable & multiple assignment :\n"
   ]
  },
  {
   "cell_type": "code",
   "execution_count": 2,
   "id": "e982e088",
   "metadata": {},
   "outputs": [],
   "source": [
    "var1, var2, var3 = \"a\", 1, 2.0\n"
   ]
  },
  {
   "cell_type": "markdown",
   "id": "576d82a5",
   "metadata": {},
   "source": [
    "Switch the value of a to b and b to a.\n",
    "\n",
    "1. By creating 3rd variable \n"
   ]
  },
  {
   "cell_type": "code",
   "execution_count": 10,
   "id": "062b2d04",
   "metadata": {},
   "outputs": [
    {
     "name": "stdout",
     "output_type": "stream",
     "text": [
      "20\n",
      "10\n"
     ]
    }
   ],
   "source": [
    "a = 10\n",
    "b = 20\n",
    "c = a\n",
    "a = b\n",
    "b = c\n",
    "print(a)\n",
    "print(b)\n"
   ]
  },
  {
   "cell_type": "markdown",
   "id": "60f236ff",
   "metadata": {},
   "source": [
    "  \n",
    "2. Without Creating Thrid Variable :\n"
   ]
  },
  {
   "cell_type": "code",
   "execution_count": 11,
   "id": "7b5e03c4",
   "metadata": {},
   "outputs": [
    {
     "name": "stdout",
     "output_type": "stream",
     "text": [
      "10 20\n"
     ]
    }
   ],
   "source": [
    "a , b = b, a\n",
    "print(a,b)"
   ]
  },
  {
   "cell_type": "markdown",
   "id": "100dfacb",
   "metadata": {},
   "source": [
    "## Data Type Conversion :\n",
    "\n",
    "- Data type conversion is a conversion of one data type to another data type.\n",
    "\n",
    "1. Implicit :(Automatic conversion)\n",
    "\n",
    "- An implicit type of conversion is a conversion performd by python interpreter without programmers intervention.\n",
    "\n",
    "- when we create variable it automatically set data type \n"
   ]
  },
  {
   "cell_type": "code",
   "execution_count": null,
   "id": "f954d6b0",
   "metadata": {},
   "outputs": [],
   "source": [
    "a = 4     # --> Int\n",
    "b = \"name\"# --> Str\n",
    "c = 4.0   # --> float\n"
   ]
  },
  {
   "cell_type": "markdown",
   "id": "092cee7f",
   "metadata": {},
   "source": [
    " 2.  Explicit :  \n",
    " - An explicit type conversion is user defined that forces an expression or to be of specific data type.\n",
    " "
   ]
  },
  {
   "cell_type": "code",
   "execution_count": 13,
   "id": "a8d61088",
   "metadata": {},
   "outputs": [
    {
     "name": "stdout",
     "output_type": "stream",
     "text": [
      "<class 'str'>\n",
      "<class 'int'>\n"
     ]
    }
   ],
   "source": [
    "a = \"4\"\n",
    "print(type(a))\n",
    "\n",
    "b= int(a)\n",
    "print(type(b))"
   ]
  },
  {
   "cell_type": "markdown",
   "id": "a21b4578",
   "metadata": {},
   "source": [
    "### Algorithms , Flowcharts and Pseducode : \n",
    "\n",
    "1. Algorithms :\n",
    " - Breaking down task into steps known as algorithm \n",
    "\n",
    " - Sequence of steps to solve the problem \n",
    "\n",
    " 2. Flowcharts :\n",
    " -  Start and stop in given and i middle steps are involved\n",
    "\n",
    " 3. Pseducode :\n",
    "  - Plain language way to describe steps of an algorithm without using actual syntax.\n",
    "\n",
    "\n",
    "\n",
    " ### Mutability :(changeble)\n",
    "   - Mutable we can make changes after creating. e.g. List\n",
    "\n",
    "### immutable :(unchangeble) :\n",
    "   - We cannot make chnages once we created e.g. Float, str, int, bytes, tuples.\n",
    "\n"
   ]
  },
  {
   "cell_type": "markdown",
   "id": "57897097",
   "metadata": {},
   "source": [
    "## Tuples : (Data Structure)\n",
    "- Tuples are orderd collection of heterogenous value, which are immutable.\n",
    "\n",
    " - Variable stored in strctured format , denoted by ().\n",
    " - itarable - Can loop through it.\n",
    " - We cannot use append(), insert(), pop(), remove() methods in tuple if we want to make changes in tupple we need to convert it into list and then we can use these methods.\n",
    " \n"
   ]
  },
  {
   "cell_type": "code",
   "execution_count": null,
   "id": "350b709a",
   "metadata": {},
   "outputs": [
    {
     "name": "stdout",
     "output_type": "stream",
     "text": [
      "(2, 3, 323, 212, 3, 56, 8, 1)\n"
     ]
    }
   ],
   "source": [
    "tuple_1 = (2,3,323,212,3,56,8) \n",
    "\n",
    "list_1 = list(tuple_1)\n",
    "\n",
    "list_1.append(1)\n",
    "\n",
    "tuple_1 = tuple(list_1)\n",
    "\n",
    "print(tuple_1)"
   ]
  },
  {
   "cell_type": "markdown",
   "id": "aab372a7",
   "metadata": {},
   "source": [
    "- Join Two Tuples :"
   ]
  },
  {
   "cell_type": "code",
   "execution_count": 16,
   "id": "c81f9af1",
   "metadata": {},
   "outputs": [
    {
     "data": {
      "text/plain": [
       "tuple"
      ]
     },
     "execution_count": 16,
     "metadata": {},
     "output_type": "execute_result"
    }
   ],
   "source": [
    "t1 = (1,2,3,4)\n",
    "t2 = (4,5,6,7,8)\n",
    "\n",
    "t3= t1 + t2\n",
    "type(t3)"
   ]
  },
  {
   "cell_type": "markdown",
   "id": "14ada672",
   "metadata": {},
   "source": [
    "- Repetation of tuple :\n",
    "  -  We can repeate tuple multiple times by multiplying it.\n"
   ]
  },
  {
   "cell_type": "code",
   "execution_count": null,
   "id": "8fe2e377",
   "metadata": {},
   "outputs": [],
   "source": [
    "t4 = t3 *3 \n"
   ]
  },
  {
   "cell_type": "markdown",
   "id": "a43f71b2",
   "metadata": {},
   "source": [
    "### Membership Function :\n",
    "\n",
    " 1. in :\n",
    "   - IN is used to check specific element present in list or not\n",
    "   It will show resukt in boolean vale true or false"
   ]
  },
  {
   "cell_type": "code",
   "execution_count": 20,
   "id": "dae8dd5d",
   "metadata": {},
   "outputs": [
    {
     "data": {
      "text/plain": [
       "True"
      ]
     },
     "execution_count": 20,
     "metadata": {},
     "output_type": "execute_result"
    }
   ],
   "source": [
    "tuple_1 = (2,3,323,212,3,56,8)\n",
    "\n",
    "2 in tuple_1"
   ]
  },
  {
   "cell_type": "markdown",
   "id": "61f910cb",
   "metadata": {},
   "source": [
    " 2. Not in :\n",
    "  - Not in check whether value is present in tuple or not.\n",
    "  - If value is there result will fasle"
   ]
  },
  {
   "cell_type": "code",
   "execution_count": null,
   "id": "d7cb475c",
   "metadata": {},
   "outputs": [
    {
     "data": {
      "text/plain": [
       "False"
      ]
     },
     "execution_count": 22,
     "metadata": {},
     "output_type": "execute_result"
    }
   ],
   "source": [
    "2 not in tuple_1"
   ]
  },
  {
   "cell_type": "markdown",
   "id": "59da6772",
   "metadata": {},
   "source": [
    "Inbuilt functions :\n",
    "\n",
    "1. length() : \n",
    "  - len() calculate the length of object\n",
    "  "
   ]
  },
  {
   "cell_type": "code",
   "execution_count": 25,
   "id": "e066df8a",
   "metadata": {},
   "outputs": [
    {
     "data": {
      "text/plain": [
       "7"
      ]
     },
     "execution_count": 25,
     "metadata": {},
     "output_type": "execute_result"
    }
   ],
   "source": [
    "len(list_1)\n",
    "len(tuple_1)"
   ]
  },
  {
   "cell_type": "markdown",
   "id": "2d256383",
   "metadata": {},
   "source": [
    "2. max() :\n",
    " - Find max number.\n",
    " "
   ]
  },
  {
   "cell_type": "code",
   "execution_count": 27,
   "id": "a428d185",
   "metadata": {},
   "outputs": [
    {
     "name": "stdout",
     "output_type": "stream",
     "text": [
      "[2, 3, 323, 212, 3, 56, 8, 1]\n"
     ]
    },
    {
     "data": {
      "text/plain": [
       "323"
      ]
     },
     "execution_count": 27,
     "metadata": {},
     "output_type": "execute_result"
    }
   ],
   "source": [
    "print(list_1)\n",
    "max(list_1)"
   ]
  },
  {
   "cell_type": "markdown",
   "id": "69f68758",
   "metadata": {},
   "source": [
    "3. Min():\n",
    "\n",
    "- Find minimum number \n",
    "\n"
   ]
  },
  {
   "cell_type": "code",
   "execution_count": 28,
   "id": "2efe2e35",
   "metadata": {},
   "outputs": [
    {
     "data": {
      "text/plain": [
       "1"
      ]
     },
     "execution_count": 28,
     "metadata": {},
     "output_type": "execute_result"
    }
   ],
   "source": [
    "min(list_1)"
   ]
  },
  {
   "cell_type": "markdown",
   "id": "f6346815",
   "metadata": {},
   "source": [
    "### Indexing & Slicing :\n",
    "\n",
    "1. Indexing : (Position numbers)\n",
    "\n",
    "    - Every value will be store in index number, every value willl have number.\n",
    "\n",
    "    - list = [1(0), 2(1), 3(2),5(3), \"a\"(4)] ----(Positive indexing start from first element)\n",
    "\n",
    "    - list = [1(-4), 2(-4), 3(-3),5(-2), \"a\"(-1)] ---(negetive indexing start from last element of list)\n",
    "\n",
    "    - To access items in list by using index number [] e.g. list_1[2], this will show 3rd item in list"
   ]
  },
  {
   "cell_type": "code",
   "execution_count": null,
   "id": "94947440",
   "metadata": {},
   "outputs": [
    {
     "name": "stdout",
     "output_type": "stream",
     "text": [
      "1\n",
      "2\n",
      "20\n"
     ]
    }
   ],
   "source": [
    "list_2 = [1,2,3,4,5,6,7,8,9,10,11,12,13,14,15,16,17,18,19,20]\n",
    "\n",
    "print(list_2[0]) # gives 1st element in list\n",
    "\n",
    "print(list_2[1]) # gives 2nd elemwnt in list\n",
    "\n",
    "print(list_2[-1])# gives last element from list by negetive indexing\n"
   ]
  },
  {
   "cell_type": "markdown",
   "id": "3bf0b8dc",
   "metadata": {},
   "source": [
    "- Access element by reffering index :\n"
   ]
  },
  {
   "cell_type": "code",
   "execution_count": 50,
   "id": "5b29ee08",
   "metadata": {},
   "outputs": [
    {
     "data": {
      "text/plain": [
       "3"
      ]
     },
     "execution_count": 50,
     "metadata": {},
     "output_type": "execute_result"
    }
   ],
   "source": [
    "list_2.index(4) # instead of index no we can refer by its value(e.g. we want to check what is index no for 4 element in list)"
   ]
  },
  {
   "cell_type": "markdown",
   "id": "595a6f6e",
   "metadata": {},
   "source": [
    "2 . Slicing : \n",
    "\n",
    "  - Taking part of something using its position(index no)\n",
    "  - var_name[start_index : stop_index : step_index]\n",
    "  - start_index - is mandetory\n",
    "  - stop_index - is optional\n",
    "  - step_index - optional\n",
    "  - When we select range start_index is included but stop_index is excluded.\n",
    "  - 1 is default for step.\n"
   ]
  },
  {
   "cell_type": "code",
   "execution_count": null,
   "id": "48c9605d",
   "metadata": {},
   "outputs": [
    {
     "name": "stdout",
     "output_type": "stream",
     "text": [
      "[20, 19, 18, 17, 16, 15, 14, 13, 12, 11, 10, 9, 8, 7, 6, 5, 4, 3, 2, 1]\n",
      "[6, 7, 8, 9, 10, 11, 12, 13, 14, 15, 16, 17, 18, 19, 20]\n",
      "20\n",
      "[1, 2, 3, 4, 5, 6, 7, 8, 9, 10, 11, 12, 13, 14, 15, 16, 17, 18, 19]\n",
      "[1, 3, 5, 7, 9, 11, 13, 15, 17, 19]\n",
      "[1, 4, 7, 10, 13, 16, 19]\n",
      "[13, 14, 15, 16, 17, 18, 19, 20]\n",
      "[17, 18, 19, 20]\n"
     ]
    }
   ],
   "source": [
    "list_2 = [1,2,3,4,5,6,7,8,9,10,11,12,13,14,15,16,17,18,19,20]\n",
    "\n",
    "print(list_2[ : :-1]) # Select entire list\n",
    "print(list_2[5:])     # Select from 5 element to end os list\n",
    "print(list_2[:5])     # Select first five element\n",
    "print(list_2[-1])     # Select last element of list\n",
    "print(list_2[ :-1])   # Gives all element except last one \n",
    "print(list_2[: : 2])  # Gives every 2nd element use 2 as step\n",
    "print(list_2[: : 3])  # Gives every 3rd element use 3 as step\n",
    "print(list_2[-8:])    # Gives elements starting from the 8th position from the end till the end of the list.\n",
    "print(list_2[-4:])    # Gives last 4 element from list.\n",
    "\n",
    "\n",
    "\n"
   ]
  },
  {
   "cell_type": "markdown",
   "id": "8e17f0c3",
   "metadata": {},
   "source": [
    "Q1. Given word = \"Python\", extract \"Pyt\"."
   ]
  },
  {
   "cell_type": "code",
   "execution_count": 54,
   "id": "7ccff77a",
   "metadata": {},
   "outputs": [
    {
     "data": {
      "text/plain": [
       "'Pyt'"
      ]
     },
     "execution_count": 54,
     "metadata": {},
     "output_type": "execute_result"
    }
   ],
   "source": [
    "word = \"Python\"\n",
    "\n",
    "word[0:3]"
   ]
  },
  {
   "cell_type": "markdown",
   "id": "8e0e0fbc",
   "metadata": {},
   "source": [
    "Q2. From \"Programming\", get \"gram\".\n"
   ]
  },
  {
   "cell_type": "code",
   "execution_count": 53,
   "id": "153b34ec",
   "metadata": {},
   "outputs": [
    {
     "data": {
      "text/plain": [
       "'gram'"
      ]
     },
     "execution_count": 53,
     "metadata": {},
     "output_type": "execute_result"
    }
   ],
   "source": [
    "word = \"Programming\"\n",
    "\n",
    "word[3:7]"
   ]
  },
  {
   "cell_type": "markdown",
   "id": "ccc5b238",
   "metadata": {},
   "source": [
    "Q3. Reverse \"HelloWorld\" using slicing.\n"
   ]
  },
  {
   "cell_type": "code",
   "execution_count": 59,
   "id": "f80ae7ef",
   "metadata": {},
   "outputs": [
    {
     "data": {
      "text/plain": [
       "'dlroWolleH'"
      ]
     },
     "execution_count": 59,
     "metadata": {},
     "output_type": "execute_result"
    }
   ],
   "source": [
    "strng = \"HelloWorld\"\n",
    "strng[: : -1]"
   ]
  },
  {
   "cell_type": "markdown",
   "id": "9eb04c52",
   "metadata": {},
   "source": [
    "Q4. Extract every 2nd character from \"DataScience\".\n"
   ]
  },
  {
   "cell_type": "code",
   "execution_count": 60,
   "id": "f150f3bd",
   "metadata": {},
   "outputs": [
    {
     "data": {
      "text/plain": [
       "'dtsine'"
      ]
     },
     "execution_count": 60,
     "metadata": {},
     "output_type": "execute_result"
    }
   ],
   "source": [
    "word_1 = \"datascience\"\n",
    "\n",
    "word_1[::2]"
   ]
  },
  {
   "cell_type": "markdown",
   "id": "b5e897b1",
   "metadata": {},
   "source": [
    "Q4. From \"Artificial\", get the substring \"Art\".\n"
   ]
  },
  {
   "cell_type": "code",
   "execution_count": 61,
   "id": "9202c30f",
   "metadata": {},
   "outputs": [
    {
     "data": {
      "text/plain": [
       "'Art'"
      ]
     },
     "execution_count": 61,
     "metadata": {},
     "output_type": "execute_result"
    }
   ],
   "source": [
    "word = \"Artificial\"\n",
    "word[:3]"
   ]
  },
  {
   "cell_type": "markdown",
   "id": "8da38339",
   "metadata": {},
   "source": [
    "Q5. From \"MachineLearning\", extract \"Learning\" using negative slicing.\n"
   ]
  },
  {
   "cell_type": "code",
   "execution_count": 64,
   "id": "1b6ee619",
   "metadata": {},
   "outputs": [
    {
     "data": {
      "text/plain": [
       "'Learning'"
      ]
     },
     "execution_count": 64,
     "metadata": {},
     "output_type": "execute_result"
    }
   ],
   "source": [
    "word = \"MachineLearning\"\n",
    "word[-8:]"
   ]
  },
  {
   "cell_type": "markdown",
   "id": "c83e9c77",
   "metadata": {},
   "source": [
    "Q6. Get \"thon\" from \"Python\" without using word[2:].\n"
   ]
  },
  {
   "cell_type": "code",
   "execution_count": null,
   "id": "b8451da5",
   "metadata": {},
   "outputs": [
    {
     "data": {
      "text/plain": [
       "'thon'"
      ]
     },
     "execution_count": 66,
     "metadata": {},
     "output_type": "execute_result"
    }
   ],
   "source": [
    "word = \"Python\"\n",
    "word[-4:] "
   ]
  },
  {
   "cell_type": "markdown",
   "id": "a90b80c9",
   "metadata": {},
   "source": [
    "Q7. From \"DataScience\", print \"Science\" using slicing only."
   ]
  },
  {
   "cell_type": "code",
   "execution_count": 68,
   "id": "d22987f4",
   "metadata": {},
   "outputs": [
    {
     "data": {
      "text/plain": [
       "'Science'"
      ]
     },
     "execution_count": 68,
     "metadata": {},
     "output_type": "execute_result"
    }
   ],
   "source": [
    "word = \"DataScience\"\n",
    "\n",
    "word[-7:]"
   ]
  },
  {
   "cell_type": "markdown",
   "id": "11d732b9",
   "metadata": {},
   "source": [
    "Q8. From [1, 2, [3, 4, 5], 6, 7], extract [3, 4] using slicing"
   ]
  },
  {
   "cell_type": "code",
   "execution_count": null,
   "id": "e4f9acf8",
   "metadata": {},
   "outputs": [
    {
     "data": {
      "text/plain": [
       "[3, 4, 5]"
      ]
     },
     "execution_count": 72,
     "metadata": {},
     "output_type": "execute_result"
    }
   ],
   "source": [
    "word = [1, 2, [3, 4, 5], 6, 7]\n",
    "word[2]"
   ]
  },
  {
   "cell_type": "markdown",
   "id": "2ca6985c",
   "metadata": {},
   "source": [
    "Q9. From \"ABCDEFGHIJ\", print \"ACEGI\" using slicing\n"
   ]
  },
  {
   "cell_type": "code",
   "execution_count": null,
   "id": "b3f15e4f",
   "metadata": {},
   "outputs": [
    {
     "data": {
      "text/plain": [
       "'ACEGI'"
      ]
     },
     "execution_count": 73,
     "metadata": {},
     "output_type": "execute_result"
    }
   ],
   "source": [
    "word = \"ABCDEFGHIJ\"\n",
    "\n",
    "word[::2]"
   ]
  },
  {
   "cell_type": "markdown",
   "id": "9d5a1158",
   "metadata": {},
   "source": [
    "1. Tuple :\n",
    "\n",
    "- orderd, collection of heterogenous data once created we cannot make chnages immutable.\n"
   ]
  },
  {
   "cell_type": "code",
   "execution_count": 3,
   "id": "721932e5",
   "metadata": {},
   "outputs": [],
   "source": [
    "t1 = (1,2,3,4,5,6,7,8,\"a\", \"b\",\"c\")  # we cannot amke changes in tuple \n",
    "t2 = (9,10,11,12)\n",
    "l1= list(t1)                         # Tuple converted to list to make chnages\n",
    "\n",
    "repetation= t1 * 2                   # We can repeat tuple twice\n",
    "\n",
    "concate = t1 + t2                    # We can join two tuples "
   ]
  },
  {
   "cell_type": "code",
   "execution_count": 4,
   "id": "76af70de",
   "metadata": {},
   "outputs": [
    {
     "data": {
      "text/plain": [
       "('G', 'a', 'y', 'a', 't', 'r', 'i')"
      ]
     },
     "execution_count": 4,
     "metadata": {},
     "output_type": "execute_result"
    }
   ],
   "source": [
    "name = \"Gayatri\"\n",
    "\n",
    "tuple(name)"
   ]
  },
  {
   "cell_type": "markdown",
   "id": "afa02bfa",
   "metadata": {},
   "source": [
    " Access items from tuple :\n",
    " "
   ]
  },
  {
   "cell_type": "code",
   "execution_count": 6,
   "id": "6351f3bf",
   "metadata": {},
   "outputs": [
    {
     "data": {
      "text/plain": [
       "1"
      ]
     },
     "execution_count": 6,
     "metadata": {},
     "output_type": "execute_result"
    }
   ],
   "source": [
    "name.index(\"a\")"
   ]
  },
  {
   "cell_type": "markdown",
   "id": "fa16ce5a",
   "metadata": {},
   "source": [
    "Q. Given tup = (100, 200, 300, 400), print the 2nd element"
   ]
  },
  {
   "cell_type": "code",
   "execution_count": 7,
   "id": "81ec7a7b",
   "metadata": {},
   "outputs": [
    {
     "data": {
      "text/plain": [
       "200"
      ]
     },
     "execution_count": 7,
     "metadata": {},
     "output_type": "execute_result"
    }
   ],
   "source": [
    "tup = (100, 200, 300, 400)\n",
    "\n",
    "tup[1]"
   ]
  },
  {
   "cell_type": "markdown",
   "id": "e87d2aaa",
   "metadata": {},
   "source": [
    "Q. Print the last element of (5, 10, 15, 20)."
   ]
  },
  {
   "cell_type": "code",
   "execution_count": 8,
   "id": "9b556103",
   "metadata": {},
   "outputs": [
    {
     "data": {
      "text/plain": [
       "20"
      ]
     },
     "execution_count": 8,
     "metadata": {},
     "output_type": "execute_result"
    }
   ],
   "source": [
    "elemnet = (5,10,15,20)\n",
    "elemnet[-1]"
   ]
  },
  {
   "cell_type": "markdown",
   "id": "f1c78af5",
   "metadata": {},
   "source": [
    "Q. From \"Artificial\", print every 2nd character."
   ]
  },
  {
   "cell_type": "code",
   "execution_count": 11,
   "id": "b514e15d",
   "metadata": {},
   "outputs": [
    {
     "data": {
      "text/plain": [
       "'riiil'"
      ]
     },
     "execution_count": 11,
     "metadata": {},
     "output_type": "execute_result"
    }
   ],
   "source": [
    "word = \"Artificial\"\n",
    "\n",
    "word[::2]\n",
    "word[1::2]"
   ]
  },
  {
   "cell_type": "markdown",
   "id": "e2289c30",
   "metadata": {},
   "source": [
    "Q. Given tup = (10, 20, 30, 40, 50), extract (20, 30, 40)."
   ]
  },
  {
   "cell_type": "code",
   "execution_count": 12,
   "id": "213386bc",
   "metadata": {},
   "outputs": [
    {
     "data": {
      "text/plain": [
       "(20, 30, 40)"
      ]
     },
     "execution_count": 12,
     "metadata": {},
     "output_type": "execute_result"
    }
   ],
   "source": [
    "tup = (10,20,30,40,50)\n",
    "\n",
    "tup[1:4]"
   ]
  },
  {
   "cell_type": "markdown",
   "id": "4d772462",
   "metadata": {},
   "source": [
    "Q. Reverse (1, 2, 3, 4, 5) using slicing."
   ]
  },
  {
   "cell_type": "code",
   "execution_count": 13,
   "id": "e89d19dc",
   "metadata": {},
   "outputs": [
    {
     "data": {
      "text/plain": [
       "5"
      ]
     },
     "execution_count": 13,
     "metadata": {},
     "output_type": "execute_result"
    }
   ],
   "source": [
    "tup =(1,2,3,4,5)\n",
    "\n",
    "tup[-1\n",
    "    ]"
   ]
  },
  {
   "cell_type": "markdown",
   "id": "0c6a03f2",
   "metadata": {},
   "source": [
    "Q.  From (100, 200, 300, 400, 500, 600), extract (300, 400, 500)"
   ]
  },
  {
   "cell_type": "code",
   "execution_count": 15,
   "id": "39f13787",
   "metadata": {},
   "outputs": [
    {
     "data": {
      "text/plain": [
       "(300, 400, 500)"
      ]
     },
     "execution_count": 15,
     "metadata": {},
     "output_type": "execute_result"
    }
   ],
   "source": [
    "t1 = (100,200,300,400,500,600)\n",
    "\n",
    "t1[2:5]"
   ]
  },
  {
   "cell_type": "markdown",
   "id": "bc8cfdea",
   "metadata": {},
   "source": [
    "Q. Get every 2nd element from (1, 3, 5, 7, 9, 11).\n"
   ]
  },
  {
   "cell_type": "code",
   "execution_count": 17,
   "id": "480cd6a8",
   "metadata": {},
   "outputs": [
    {
     "data": {
      "text/plain": [
       "(3, 7, 11)"
      ]
     },
     "execution_count": 17,
     "metadata": {},
     "output_type": "execute_result"
    }
   ],
   "source": [
    "t2 = (1,3,5,7,9,11)\n",
    "\n",
    "t2[::2]\n",
    "t2[1::2]"
   ]
  },
  {
   "cell_type": "markdown",
   "id": "031f4e45",
   "metadata": {},
   "source": [
    " Q. From (5, 10, 15, 20, 25, 30), get the last 2 elements using slicing."
   ]
  },
  {
   "cell_type": "code",
   "execution_count": 18,
   "id": "b7170834",
   "metadata": {},
   "outputs": [
    {
     "data": {
      "text/plain": [
       "(25, 30)"
      ]
     },
     "execution_count": 18,
     "metadata": {},
     "output_type": "execute_result"
    }
   ],
   "source": [
    "t1 = (5, 10, 15, 20, 25, 30)\n",
    "\n",
    "t1[-2:]"
   ]
  },
  {
   "cell_type": "markdown",
   "id": "206e2595",
   "metadata": {},
   "source": [
    "Q. From [1, 2, [3, 4, 5], 6, 7], extract [3, 4] using slicing. "
   ]
  },
  {
   "cell_type": "code",
   "execution_count": null,
   "id": "d8344e02",
   "metadata": {},
   "outputs": [
    {
     "data": {
      "text/plain": [
       "[3, 4]"
      ]
     },
     "execution_count": 20,
     "metadata": {},
     "output_type": "execute_result"
    }
   ],
   "source": [
    "t3 = [1, 2, [3, 4, 5], 6, 7]\n",
    "\n",
    "t3[2][0:2]"
   ]
  },
  {
   "cell_type": "code",
   "execution_count": null,
   "id": "af49d260",
   "metadata": {},
   "outputs": [],
   "source": []
  },
  {
   "cell_type": "markdown",
   "id": "99c58cff",
   "metadata": {},
   "source": [
    "## Conditional Formating :\n",
    "\n",
    "    - Control flow statement :\n",
    "    "
   ]
  },
  {
   "cell_type": "markdown",
   "id": "a8115f29",
   "metadata": {},
   "source": [
    "### IF Statements :\n",
    "    - The if statement is used to execute a block of code only if a specified condition is true"
   ]
  },
  {
   "cell_type": "markdown",
   "id": "d7c21a37",
   "metadata": {},
   "source": [
    "Q. Write a program to check you are eligible to get discount or not if total_bill is btn 2000- 5000 eligible for 5% discount ,if 5000-10000 10%, 10000 -15000% , > 15000 15% and no discount below 2000"
   ]
  },
  {
   "cell_type": "code",
   "execution_count": 10,
   "id": "08aa8b37",
   "metadata": {},
   "outputs": [
    {
     "name": "stdout",
     "output_type": "stream",
     "text": [
      "total_bill is : 10200.0\n"
     ]
    }
   ],
   "source": [
    "total_bill = int(input(\"Enter total amount of bill: \"))\n",
    "\n",
    "if total_bill >= 2000 and total_bill < 5000:\n",
    "    discounted_bill = total_bill - (total_bill * 0.05)\n",
    "    print(f\"total_bill is : {discounted_bill}\")\n",
    "\n",
    "elif total_bill >= 5000 and total_bill < 10000:\n",
    "    discounted_bill = total_bill - (total_bill * 0.10)\n",
    "    print(f\"total_bill is : {discounted_bill}\")\n",
    "\n",
    "elif total_bill >= 10000 and total_bill < 15000:\n",
    "    discounted_bill = total_bill - (total_bill * 0.15)\n",
    "    print(f\"total_bill is : {discounted_bill}\")\n",
    "\n",
    "elif total_bill >= 100 and total_bill < 2000:\n",
    "    print(\"Shop above 2000 to get discount\")\n",
    "\n",
    "else:\n",
    "    print(\"Enter valid amount\")\n"
   ]
  },
  {
   "cell_type": "markdown",
   "id": "b3580016",
   "metadata": {},
   "source": [
    "### IF-ELSE Statement :\n",
    "\n",
    "- If-else Statement: The if-else statement provides an alternative block of code to execute when the condition specified in the if statement is false. The syntax is\n",
    "\n"
   ]
  },
  {
   "cell_type": "markdown",
   "id": "46f39b94",
   "metadata": {},
   "source": [
    "Q. Write a program to check number is positive or negetive ?\n"
   ]
  },
  {
   "cell_type": "code",
   "execution_count": 12,
   "id": "2f011f8e",
   "metadata": {},
   "outputs": [
    {
     "name": "stdout",
     "output_type": "stream",
     "text": [
      "negetive number: -100\n"
     ]
    }
   ],
   "source": [
    "number = int(input(\" entwr your number : \"))\n",
    "\n",
    "if number > 0 :\n",
    "    print(f\"positive number : { number}\")\n",
    "\n",
    "elif number< 0:\n",
    "    print(f\"negetive number: {number}\")\n",
    "\n",
    "else :\n",
    "    print(\"neutral\")\n"
   ]
  },
  {
   "cell_type": "markdown",
   "id": "c4851562",
   "metadata": {},
   "source": [
    "Q. Check number is even or odd ?"
   ]
  },
  {
   "cell_type": "code",
   "execution_count": 15,
   "id": "5056659f",
   "metadata": {},
   "outputs": [
    {
     "name": "stdout",
     "output_type": "stream",
     "text": [
      " -35 : number is odd\n"
     ]
    }
   ],
   "source": [
    "num = int(input(\" enter your number: \"))\n",
    "\n",
    "if num % 2 == 0:\n",
    "    print(f'{num} : is even number')\n",
    "\n",
    "if num % 2== 1:\n",
    "    print(f' {num} : number is odd')"
   ]
  },
  {
   "cell_type": "markdown",
   "id": "c4e88650",
   "metadata": {},
   "source": [
    "Q. Write a program to assign grades based on marks:\n",
    "\n",
    "90+ → A\n",
    "\n",
    "75–89 → B\n",
    "\n",
    "50–74 → C\n",
    "\n",
    "<50 → Fail"
   ]
  },
  {
   "cell_type": "code",
   "execution_count": 22,
   "id": "aed0da2f",
   "metadata": {},
   "outputs": [
    {
     "name": "stdout",
     "output_type": "stream",
     "text": [
      "Invalid number\n"
     ]
    }
   ],
   "source": [
    "num1 = int(input(\"Enter your markd : \"))\n",
    "\n",
    "if num1 >= 90 and num1 <= 100 :\n",
    "    print(\"A\")\n",
    "\n",
    "elif num1 >= 75 and num1 < 90:\n",
    "    print(\"B\")\n",
    "\n",
    "elif num1 >= 50 and num1 < 75:\n",
    "    print(\"C\")\n",
    "\n",
    "elif num1 < 50 :\n",
    "    print(\"Fail\")\n",
    "\n",
    "else : \n",
    "    print(\"Invalid number\")\n"
   ]
  },
  {
   "cell_type": "markdown",
   "id": "d3b5046b",
   "metadata": {},
   "source": [
    "ATM simulation: if balance ≥ withdrawal amount → print \"Transaction Successful\", else \"Insufficient Funds\".(balance = 5000)"
   ]
  },
  {
   "cell_type": "code",
   "execution_count": 7,
   "id": "8c8d918d",
   "metadata": {},
   "outputs": [
    {
     "name": "stdout",
     "output_type": "stream",
     "text": [
      "Enter valid amount\n"
     ]
    }
   ],
   "source": [
    "balance = 5000\n",
    "widrall = int(input(\"Enter widrall amount : \"))\n",
    "\n",
    "if balance > widrall and widrall >=1:\n",
    "    print(\"Transection sucessful : \")\n",
    "\n",
    "elif balance < widrall :\n",
    "    print(\"Insuficient funds : \")\n",
    "elif widrall <=0 :\n",
    "    print(\"Enter valid amount\")\n",
    "\n"
   ]
  },
  {
   "cell_type": "markdown",
   "id": "885188fe",
   "metadata": {},
   "source": []
  },
  {
   "cell_type": "markdown",
   "id": "3ddf2eb7",
   "metadata": {},
   "source": [
    "---\n",
    "if condition1:\n",
    "    # Code block to be executed if condition1 is True\n",
    "    if condition2:\n",
    "        # Code block to be executed if condition2 is True\n",
    "    else:\n",
    "        # Code block to be executed if condition2 is False\n",
    "else:\n",
    "    # Code block to be executed if condition1 is False\n",
    "\n",
    "---\n"
   ]
  },
  {
   "cell_type": "markdown",
   "id": "a759d53a",
   "metadata": {},
   "source": [
    "### Sets : \n",
    "- Sets in python are unorderd collection of unique element\n",
    "- Sets are use when we want to store collection of items without any duplicate element \n",
    "- Sets are mutable, we add, remove elements from them\n",
    "- Set contain unique element if you try to add duplicate element to a set, It will not be added \n",
    " "
   ]
  },
  {
   "cell_type": "code",
   "execution_count": null,
   "id": "5d86071f",
   "metadata": {},
   "outputs": [
    {
     "data": {
      "text/plain": [
       "{1, 2, 3, 4, 5, 7, 8, 11, 12, 15, 65, 67, 76, 565, 654, 6543, 7654}"
      ]
     },
     "execution_count": 4,
     "metadata": {},
     "output_type": "execute_result"
    }
   ],
   "source": [
    "set1 = {1, 2, 3, 4, 5, 7, 8, 11, 12, 15, 65, 67, 76, 565, 654, 6543, 7654}\n",
    "\n",
    "set1\n"
   ]
  },
  {
   "cell_type": "markdown",
   "id": "81a2e9d7",
   "metadata": {},
   "source": [
    "Convert list into set :\n",
    "- List has duplicate once we converted into set all duplicates are removed \n",
    "\n"
   ]
  },
  {
   "cell_type": "code",
   "execution_count": 10,
   "id": "aa83316b",
   "metadata": {},
   "outputs": [
    {
     "name": "stdout",
     "output_type": "stream",
     "text": [
      "[5, 90, 11, 17, 99, 10, 2, 2, 2]\n",
      "{2, 99, 5, 10, 11, 17, 90}\n"
     ]
    }
   ],
   "source": [
    "l1 = [5,90,11,17, 99, 10, 2, 2, 2] # \n",
    "print(l1)\n",
    "set_2 =set(l1)\n",
    "print(set_2)"
   ]
  },
  {
   "cell_type": "code",
   "execution_count": 12,
   "id": "ccf6b749",
   "metadata": {},
   "outputs": [
    {
     "data": {
      "text/plain": [
       "{5, 12, 20, 21, 35, 50}"
      ]
     },
     "execution_count": 12,
     "metadata": {},
     "output_type": "execute_result"
    }
   ],
   "source": [
    "s3 = {50, 12, 35, 21, 5, 20,20,50, 12}\n",
    "s3\n",
    "\n"
   ]
  },
  {
   "attachments": {
    "image.png": {
     "image/png": "[encoded data removed]"
    }
   },
   "cell_type": "markdown",
   "id": "538727c6",
   "metadata": {},
   "source": [
    "#### Set Operators :\n",
    "\n",
    "- There are four types of set operators\n",
    "\n",
    "![image.png](attachment:image.png)"
   ]
  },
  {
   "cell_type": "code",
   "execution_count": null,
   "id": "bca99c32",
   "metadata": {},
   "outputs": [],
   "source": [
    "s1 = {0, 2, 4, 6, 8,7,8,5,7,8,5,7}\n",
    "\n",
    "s2 = {1, 2, 3, 4, 5,7,5,8}"
   ]
  },
  {
   "cell_type": "markdown",
   "id": "7612dfa9",
   "metadata": {},
   "source": [
    "1. Union : s1|s2\n",
    "- Find all unique from set1 and set2 : \n",
    "- when we do s1.union(s2) we will get all unique values from s1 and s2\n"
   ]
  },
  {
   "cell_type": "code",
   "execution_count": 14,
   "id": "4a3018b8",
   "metadata": {},
   "outputs": [
    {
     "data": {
      "text/plain": [
       "{0, 1, 2, 3, 4, 5, 6, 7, 8}"
      ]
     },
     "execution_count": 14,
     "metadata": {},
     "output_type": "execute_result"
    }
   ],
   "source": [
    "s1 = {0, 2, 4, 6, 8,7,8,5,7,8,5,7}\n",
    "\n",
    "s2 = {1, 2, 3, 4, 5,7,5,8}\n",
    "\n",
    "s1.union(s2)"
   ]
  },
  {
   "cell_type": "markdown",
   "id": "f7dd4f69",
   "metadata": {},
   "source": [
    "2. Intersection : (s1&s2)\n",
    "\n",
    "- Find common elements from two sets and gives output in once\n"
   ]
  },
  {
   "cell_type": "code",
   "execution_count": 16,
   "id": "c2526bf1",
   "metadata": {},
   "outputs": [
    {
     "data": {
      "text/plain": [
       "{2, 4, 5, 7, 8}"
      ]
     },
     "execution_count": 16,
     "metadata": {},
     "output_type": "execute_result"
    }
   ],
   "source": [
    "s1 = {0, 2, 4, 6, 8,7,8,5,7,8,5,7}\n",
    "\n",
    "s2 = {1, 2, 3, 4, 5,7,5,8}\n",
    "\n",
    "s1.intersection(s2)"
   ]
  },
  {
   "cell_type": "markdown",
   "id": "9d6062e9",
   "metadata": {},
   "source": [
    "3. Difference :(s1-s2)\n",
    "\n",
    "- Find all unique elements from set1 and exclude common elements which are present in set2.\n",
    "- s1.difference(s2) would be different than s2.difference(s1)\n",
    "\n"
   ]
  },
  {
   "cell_type": "code",
   "execution_count": 19,
   "id": "82f7dedc",
   "metadata": {},
   "outputs": [
    {
     "name": "stdout",
     "output_type": "stream",
     "text": [
      "{0, 6}\n",
      "{1, 3}\n"
     ]
    }
   ],
   "source": [
    "s1 = {0, 2, 4, 6, 8,7,8,5,7,8,5,7}\n",
    "\n",
    "s2 = {1, 2, 3, 4, 5,7,5,8}\n",
    "\n",
    "print(s1.difference(s2))\n",
    "\n",
    "print(s2.difference(s1))"
   ]
  },
  {
   "cell_type": "markdown",
   "id": "37715414",
   "metadata": {},
   "source": [
    "4. Symmetric Differnce : (s1^s2)\n",
    "\n",
    "- Find unique values from both the set like which are not duplicate \n",
    "- Takes elements that are in either S₁ or S₂ but not both.\n",
    "\n",
    "\n"
   ]
  },
  {
   "cell_type": "code",
   "execution_count": 18,
   "id": "bd9e2158",
   "metadata": {},
   "outputs": [
    {
     "data": {
      "text/plain": [
       "{0, 1, 3, 6}"
      ]
     },
     "execution_count": 18,
     "metadata": {},
     "output_type": "execute_result"
    }
   ],
   "source": [
    "s1 = {0, 2, 4, 6, 8,7,8,5,7,8,5,7}\n",
    "\n",
    "s2 = {1, 2, 3, 4, 5,7,5,8}\n",
    "\n",
    "s1.symmetric_difference(s2)"
   ]
  },
  {
   "cell_type": "code",
   "execution_count": null,
   "id": "5e97b149",
   "metadata": {},
   "outputs": [],
   "source": []
  },
  {
   "cell_type": "markdown",
   "id": "aadf8200",
   "metadata": {},
   "source": [
    "Q. Create two sets: {1, 2, 3} and {3, 4, 5}.\n",
    "\n",
    "Find the union of the two sets and print it."
   ]
  },
  {
   "cell_type": "code",
   "execution_count": 21,
   "id": "8cbf3964",
   "metadata": {},
   "outputs": [
    {
     "name": "stdout",
     "output_type": "stream",
     "text": [
      "{1, 2, 3, 4, 5}\n"
     ]
    }
   ],
   "source": [
    "a = {1,2,3}\n",
    "b = {3,4,5}\n",
    "\n",
    "result= a.union(b)\n",
    "print(result)\n"
   ]
  },
  {
   "cell_type": "markdown",
   "id": "16ab17b7",
   "metadata": {},
   "source": [
    "Q. Set operations – difference"
   ]
  },
  {
   "cell_type": "code",
   "execution_count": 22,
   "id": "a4d68f08",
   "metadata": {},
   "outputs": [
    {
     "name": "stdout",
     "output_type": "stream",
     "text": [
      "{1, 2}\n"
     ]
    }
   ],
   "source": [
    "a = {1,2,3}\n",
    "b = {3,4,5}\n",
    "\n",
    "res1 = a.difference(b)\n",
    "print(res1)"
   ]
  },
  {
   "cell_type": "markdown",
   "id": "45db80fa",
   "metadata": {},
   "source": [
    "Q.  Find intersection btn two \n"
   ]
  },
  {
   "cell_type": "code",
   "execution_count": 24,
   "id": "32ded7f3",
   "metadata": {},
   "outputs": [
    {
     "data": {
      "text/plain": [
       "{3}"
      ]
     },
     "execution_count": 24,
     "metadata": {},
     "output_type": "execute_result"
    }
   ],
   "source": [
    "a = {1,2,3}\n",
    "b = {3,4,5}\n",
    "\n",
    "a.intersection(b)"
   ]
  },
  {
   "cell_type": "markdown",
   "id": "072f3a2c",
   "metadata": {},
   "source": [
    "Q. Find symmetric difference "
   ]
  },
  {
   "cell_type": "code",
   "execution_count": 27,
   "id": "61750fc2",
   "metadata": {},
   "outputs": [
    {
     "data": {
      "text/plain": [
       "{1, 2, 4, 5}"
      ]
     },
     "execution_count": 27,
     "metadata": {},
     "output_type": "execute_result"
    }
   ],
   "source": [
    "a = {1,2,3}\n",
    "b = {3,4,5}\n",
    "\n",
    "a.symmetric_difference(b)"
   ]
  },
  {
   "cell_type": "markdown",
   "id": "b35fa2d2",
   "metadata": {},
   "source": [
    "Q. Convert list to set\n",
    "\n",
    "Given the list [1, 2, 2, 3, 4, 4, 4, 5], convert it into a set and print the result.\n"
   ]
  },
  {
   "cell_type": "code",
   "execution_count": null,
   "id": "b79851fa",
   "metadata": {},
   "outputs": [
    {
     "name": "stdout",
     "output_type": "stream",
     "text": [
      "{1, 2, 3, 4, 5}\n"
     ]
    }
   ],
   "source": [
    "lst_1 = [1, 2, 2, 3, 4, 4, 4, 5]\n",
    "\n",
    "set_1 = set(lst_1) # removed duplicate\n",
    "print(set_1)"
   ]
  },
  {
   "cell_type": "markdown",
   "id": "7ecd4f93",
   "metadata": {},
   "source": [
    "Q. Find symmetric difference between two list "
   ]
  },
  {
   "cell_type": "code",
   "execution_count": 38,
   "id": "4afc896c",
   "metadata": {},
   "outputs": [
    {
     "name": "stdout",
     "output_type": "stream",
     "text": [
      "{1, 2, 5, 6}\n"
     ]
    }
   ],
   "source": [
    "list1 = [1, 2, 3, 4]\n",
    "list2 = [3, 4, 5, 6]\n",
    "s1 = set(list1)\n",
    "s2 = set(list2)\n",
    "unique = s1.symmetric_difference(s2)\n",
    "print(unique)\n",
    "\n"
   ]
  },
  {
   "cell_type": "markdown",
   "id": "cb368718",
   "metadata": {},
   "source": [
    "\n",
    "## Dictonary :\n",
    "- Dictonary is collection of key value pair. \n",
    "- We can acces dict items by reffering its name inside square bracket.\n",
    "- Dict cannot have two items with duplicate key \n",
    "- We use key as index in dict there in no specific indexing method for dict."
   ]
  },
  {
   "cell_type": "markdown",
   "id": "8dde8a9f",
   "metadata": {},
   "source": [
    "Access dictonary items :\n"
   ]
  },
  {
   "cell_type": "code",
   "execution_count": 43,
   "id": "5509cfc9",
   "metadata": {},
   "outputs": [
    {
     "data": {
      "text/plain": [
       "'Apple'"
      ]
     },
     "execution_count": 43,
     "metadata": {},
     "output_type": "execute_result"
    }
   ],
   "source": [
    "dict = {\"A\" :\"Apple\", \"B\": \"Banana\", \"C\": \"Cat\"}\n",
    "\n",
    "x= dict[\"A\"]\n",
    "x"
   ]
  },
  {
   "cell_type": "markdown",
   "id": "49d0af5d",
   "metadata": {},
   "source": [
    "- Access dict items by Key :"
   ]
  },
  {
   "cell_type": "code",
   "execution_count": 49,
   "id": "f59d7761",
   "metadata": {},
   "outputs": [
    {
     "name": "stdout",
     "output_type": "stream",
     "text": [
      "dict_keys(['A', 'B', 'C'])\n"
     ]
    }
   ],
   "source": [
    "x = dict.keys()\n",
    "\n",
    "print(x)"
   ]
  },
  {
   "cell_type": "markdown",
   "id": "f56a7505",
   "metadata": {},
   "source": [
    "- Access dict items by value :\n"
   ]
  },
  {
   "cell_type": "code",
   "execution_count": 53,
   "id": "4a81cbee",
   "metadata": {},
   "outputs": [
    {
     "name": "stdout",
     "output_type": "stream",
     "text": [
      "dict_values(['Apple', 'Banana', 'Cat'])\n",
      "dict_items([('A', 'Apple'), ('B', 'Banana'), ('C', 'Cat')])\n"
     ]
    }
   ],
   "source": [
    "x = dict.values()\n",
    "\n",
    "print(x)\n",
    "\n",
    "y = dict.items()\n",
    "\n",
    "print(y)"
   ]
  },
  {
   "cell_type": "markdown",
   "id": "aebc28ce",
   "metadata": {},
   "source": [
    "- If dict has same key for two vaules, it willl chosse 2nd occurance.\n"
   ]
  },
  {
   "cell_type": "code",
   "execution_count": 54,
   "id": "802de75a",
   "metadata": {},
   "outputs": [
    {
     "data": {
      "text/plain": [
       "{'Super': 'Woman'}"
      ]
     },
     "execution_count": 54,
     "metadata": {},
     "output_type": "execute_result"
    }
   ],
   "source": [
    "dict3 = {'Super':'Man', 'Super':'Woman'}\n",
    "dict3\n"
   ]
  },
  {
   "cell_type": "markdown",
   "id": "44c67e69",
   "metadata": {},
   "source": [
    "Q. Create and access dictionary\n",
    "\n",
    "Create a dictionary representing a student with keys: name, age, and grade.\n",
    "\n",
    "Print the student's name and age."
   ]
  },
  {
   "cell_type": "code",
   "execution_count": 59,
   "id": "678588ab",
   "metadata": {},
   "outputs": [
    {
     "name": "stdout",
     "output_type": "stream",
     "text": [
      "Gayatri 16\n",
      "Name: Gayatri\n",
      "Age: 16\n"
     ]
    }
   ],
   "source": [
    "Students = { \"Name\": \"Gayatri\", \"Age\": 16, \"Grade\": \"A\"}\n",
    "\n",
    "x= Students[\"Name\"]\n",
    "y= Students[\"Age\"]\n",
    "\n",
    "print(x, y)\n",
    "\n",
    "print(\"Name:\", Students[\"Name\"])\n",
    "print(\"Age:\", Students[\"Age\"])"
   ]
  },
  {
   "cell_type": "markdown",
   "id": "7dbbd689",
   "metadata": {},
   "source": [
    "- Add & Remove elements from dict :"
   ]
  },
  {
   "cell_type": "code",
   "execution_count": null,
   "id": "5e839251",
   "metadata": {},
   "outputs": [],
   "source": []
  },
  {
   "cell_type": "markdown",
   "id": "b3c77b6d",
   "metadata": {},
   "source": [
    "Q. prime_numbers = {2, 3, 5, 7, 11}"
   ]
  },
  {
   "cell_type": "markdown",
   "id": "402ab203",
   "metadata": {},
   "source": [
    "Add and remove elements\n",
    "\n",
    "Q. fruits = ['apple', 'banana', 'cherry’], add orange and add grape on 1 index"
   ]
  },
  {
   "cell_type": "markdown",
   "id": "3c68b732",
   "metadata": {},
   "source": [
    "Q. nested_list = [[1, 2], [3, 4, 5], [6]]\n",
    "Problem 1 – Sum of all elements in a nested list"
   ]
  },
  {
   "cell_type": "code",
   "execution_count": null,
   "id": "9fa76f8b",
   "metadata": {},
   "outputs": [],
   "source": []
  },
  {
   "cell_type": "markdown",
   "id": "8b533552",
   "metadata": {},
   "source": [
    "Q. data = {\n",
    "    \"list\": [1, 2, 3],\n",
    "    \"tuple\": (3, 4, 5),\n",
    "    \"set\": {5, 6},\n",
    "    \"dict\": {\"a\": 6, \"b\": 7}\n",
    "}\n",
    "Find all unique values "
   ]
  },
  {
   "cell_type": "code",
   "execution_count": null,
   "id": "dfebafa6",
   "metadata": {},
   "outputs": [],
   "source": []
  },
  {
   "cell_type": "markdown",
   "id": "b2ffbff0",
   "metadata": {},
   "source": [
    "Q. Find all even numbers in a tuple of tup\n",
    "nested_tuple = ((1, 2), (3, 4, 5), (6,))"
   ]
  },
  {
   "cell_type": "code",
   "execution_count": null,
   "id": "cd08ab1d",
   "metadata": {},
   "outputs": [],
   "source": []
  },
  {
   "cell_type": "markdown",
   "id": "e8767cec",
   "metadata": {},
   "source": [
    "Q. Find keys where any value is greater than 5\n",
    "nested_dict = {\n",
    "    \"one\": [1, 2, 3],\n",
    "    \"two\": [4, 5, 6],\n",
    "    \"three\": [7, 8, 9]\n",
    "}\n"
   ]
  },
  {
   "cell_type": "code",
   "execution_count": null,
   "id": "d288681b",
   "metadata": {},
   "outputs": [],
   "source": []
  },
  {
   "cell_type": "markdown",
   "id": "91baf6a0",
   "metadata": {},
   "source": [
    "Q. Get all strings containing 'a' from mixed structures\n",
    "data = [\n",
    "    {\"names\": [\"Adam\", \"Eve\"]},\n",
    "    {\"names\": [\"Alan\", \"Bob\"]}\n",
    "]"
   ]
  },
  {
   "cell_type": "code",
   "execution_count": null,
   "id": "a5c29643",
   "metadata": {},
   "outputs": [],
   "source": []
  },
  {
   "cell_type": "markdown",
   "id": "be060768",
   "metadata": {},
   "source": [
    "Q. Extract all unique values from mixed structures\n",
    "data = {\n",
    "    \"list\": [1, 2, 3],\n",
    "    \"tuple\": (3, 4, 5),\n",
    "    \"set\": {5, 6},\n",
    "    \"dict\": {\"a\": 6, \"b\": 7}\n",
    "}"
   ]
  },
  {
   "cell_type": "code",
   "execution_count": null,
   "id": "b60e7453",
   "metadata": {},
   "outputs": [],
   "source": []
  }
 ],
 "metadata": {
  "kernelspec": {
   "display_name": "Python 3",
   "language": "python",
   "name": "python3"
  },
  "language_info": {
   "codemirror_mode": {
    "name": "ipython",
    "version": 3
   },
   "file_extension": ".py",
   "mimetype": "text/x-python",
   "name": "python",
   "nbconvert_exporter": "python",
   "pygments_lexer": "ipython3",
   "version": "3.13.5"
  }
 },
 "nbformat": 4,
 "nbformat_minor": 5
}
