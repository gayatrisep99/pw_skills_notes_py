{
 "cells": [
  {
   "cell_type": "code",
   "execution_count": null,
   "id": "53b432a5",
   "metadata": {},
   "outputs": [],
   "source": []
  },
  {
   "cell_type": "markdown",
   "id": "fafc936d",
   "metadata": {},
   "source": [
    "# Live Notes :\n",
    "\n",
    "## Python :\n",
    "\n",
    "- Python is an interpreted language, which means code is executed line by line, making it easier to debug and test. However, Python can also be compiled into bytecode for improved performance using tools like PyInstaller, Cython, or Nuitka.\n",
    "\n",
    "\n",
    "### Variables:\n",
    "\n",
    "- In Python, a variable is a name that refers to a value. You can think of it as a container that holds data. Unlike some other languages, Python doesn't require you to explicitly declare the type of a variable before using it. You simply assign a value to a variable using the equals sign '='.\n",
    "\n",
    "\n",
    "## Data Types In Python :\n",
    "\n",
    "- Data types are the different kinds of values that can be stored and used in a program.\n",
    "\n",
    "\n",
    "![alt text](image.png)\n",
    "\n",
    "1. Numeric :\n",
    "\n",
    "- Numeric data type represent data number datatype.\n",
    "\n",
    "    1) Integer:\n",
    "\n",
    "     - It represent  int value e.g. 5,110, 2,1.\n",
    "    2) Complex number:\n",
    "     - Represent complex number wit real and imagenary parts. e.g 2+3j, -1, -1J.\n",
    "\n",
    "    3) Float :\n",
    "     - Float represents floting point number.\n",
    "      - e.g. 20.5, 2.5, 4.5\n",
    "\n",
    "\n",
    "2. String :\n",
    "- String type represent sequence or collection of charachters.\n",
    " - e.g. \"Hello\" \"1123\"\n",
    "\n",
    "\n",
    "3. Boolean :\n",
    " - Represent boolean value which can be either true or false.\n",
    "\n",
    "\n",
    "#### Type() :\n",
    " - To get type of variable \n",
    "\n",
    " \n",
    "\n",
    " \n",
    "\n",
    "      \n"
   ]
  },
  {
   "cell_type": "code",
   "execution_count": 1,
   "id": "5cd01cb9",
   "metadata": {},
   "outputs": [
    {
     "data": {
      "text/plain": [
       "str"
      ]
     },
     "execution_count": 1,
     "metadata": {},
     "output_type": "execute_result"
    }
   ],
   "source": [
    "var_name = \"name\"\n",
    "type(var_name)"
   ]
  },
  {
   "cell_type": "markdown",
   "id": "8970b106",
   "metadata": {},
   "source": [
    "### Variable :"
   ]
  },
  {
   "cell_type": "markdown",
   "id": "de6451d1",
   "metadata": {},
   "source": [
    "Var_name = \"name\""
   ]
  },
  {
   "cell_type": "markdown",
   "id": "13129083",
   "metadata": {},
   "source": [
    "### Mutliple variable & multiple assignment :\n"
   ]
  },
  {
   "cell_type": "code",
   "execution_count": 2,
   "id": "e982e088",
   "metadata": {},
   "outputs": [],
   "source": [
    "var1, var2, var3 = \"a\", 1, 2.0\n"
   ]
  },
  {
   "cell_type": "markdown",
   "id": "576d82a5",
   "metadata": {},
   "source": [
    "Switch the value of a to b and b to a.\n",
    "\n",
    "1. By creating 3rd variable \n"
   ]
  },
  {
   "cell_type": "code",
   "execution_count": 10,
   "id": "062b2d04",
   "metadata": {},
   "outputs": [
    {
     "name": "stdout",
     "output_type": "stream",
     "text": [
      "20\n",
      "10\n"
     ]
    }
   ],
   "source": [
    "a = 10\n",
    "b = 20\n",
    "c = a\n",
    "a = b\n",
    "b = c\n",
    "print(a)\n",
    "print(b)\n"
   ]
  },
  {
   "cell_type": "markdown",
   "id": "60f236ff",
   "metadata": {},
   "source": [
    "  \n",
    "2. Without Creating Thrid Variable :\n"
   ]
  },
  {
   "cell_type": "code",
   "execution_count": 11,
   "id": "7b5e03c4",
   "metadata": {},
   "outputs": [
    {
     "name": "stdout",
     "output_type": "stream",
     "text": [
      "10 20\n"
     ]
    }
   ],
   "source": [
    "a , b = b, a\n",
    "print(a,b)"
   ]
  },
  {
   "cell_type": "markdown",
   "id": "100dfacb",
   "metadata": {},
   "source": [
    "## Data Type Conversion :\n",
    "\n",
    "- Data type conversion is a conversion of one data type to another data type.\n",
    "\n",
    "1. Implicit :(Automatic conversion)\n",
    "\n",
    "- An implicit type of conversion is a conversion performd by python interpreter without programmers intervention.\n",
    "\n",
    "- when we create variable it automatically set data type \n"
   ]
  },
  {
   "cell_type": "code",
   "execution_count": null,
   "id": "f954d6b0",
   "metadata": {},
   "outputs": [],
   "source": [
    "a = 4     # --> Int\n",
    "b = \"name\"# --> Str\n",
    "c = 4.0   # --> float\n"
   ]
  },
  {
   "cell_type": "markdown",
   "id": "092cee7f",
   "metadata": {},
   "source": [
    " 2.  Explicit :  \n",
    " - An explicit type conversion is user defined that forces an expression or to be of specific data type.\n",
    " "
   ]
  },
  {
   "cell_type": "code",
   "execution_count": 13,
   "id": "a8d61088",
   "metadata": {},
   "outputs": [
    {
     "name": "stdout",
     "output_type": "stream",
     "text": [
      "<class 'str'>\n",
      "<class 'int'>\n"
     ]
    }
   ],
   "source": [
    "a = \"4\"\n",
    "print(type(a))\n",
    "\n",
    "b= int(a)\n",
    "print(type(b))"
   ]
  },
  {
   "cell_type": "markdown",
   "id": "a21b4578",
   "metadata": {},
   "source": [
    "### Algorithms , Flowcharts and Pseducode : \n",
    "\n",
    "1. Algorithms :\n",
    " - Breaking down task into steps known as algorithm \n",
    "\n",
    " - Sequence of steps to solve the problem \n",
    "\n",
    " 2. Flowcharts :\n",
    " -  Start and stop in given and i middle steps are involved\n",
    "\n",
    " 3. Pseducode :\n",
    "  - Plain language way to describe steps of an algorithm without using actual syntax.\n",
    "\n",
    "\n",
    "\n",
    " ### Mutability :(changeble)\n",
    "   - Mutable we can make changes after creating. e.g. List\n",
    "\n",
    "### immutable :(unchangeble) :\n",
    "   - We cannot make chnages once we created e.g. Float, str, int, bytes, tuples.\n",
    "\n"
   ]
  },
  {
   "cell_type": "markdown",
   "id": "57897097",
   "metadata": {},
   "source": [
    "## Tuples : (Data Structure)\n",
    "- Tuples are orderd collection of heterogenous value, which are immutable.\n",
    "\n",
    " - Variable stored in strctured format , denoted by ().\n",
    " - itarable - Can loop through it.\n",
    " - We cannot use append(), insert(), pop(), remove() methods in tuple if we want to make changes in tupple we need to convert it into list and then we can use these methods.\n",
    " \n"
   ]
  },
  {
   "cell_type": "code",
   "execution_count": null,
   "id": "350b709a",
   "metadata": {},
   "outputs": [
    {
     "name": "stdout",
     "output_type": "stream",
     "text": [
      "(2, 3, 323, 212, 3, 56, 8, 1)\n"
     ]
    }
   ],
   "source": [
    "tuple_1 = (2,3,323,212,3,56,8) \n",
    "\n",
    "list_1 = list(tuple_1)\n",
    "\n",
    "list_1.append(1)\n",
    "\n",
    "tuple_1 = tuple(list_1)\n",
    "\n",
    "print(tuple_1)"
   ]
  },
  {
   "cell_type": "markdown",
   "id": "aab372a7",
   "metadata": {},
   "source": [
    "- Join Two Tuples :"
   ]
  },
  {
   "cell_type": "code",
   "execution_count": 16,
   "id": "c81f9af1",
   "metadata": {},
   "outputs": [
    {
     "data": {
      "text/plain": [
       "tuple"
      ]
     },
     "execution_count": 16,
     "metadata": {},
     "output_type": "execute_result"
    }
   ],
   "source": [
    "t1 = (1,2,3,4)\n",
    "t2 = (4,5,6,7,8)\n",
    "\n",
    "t3= t1 + t2\n",
    "type(t3)"
   ]
  },
  {
   "cell_type": "markdown",
   "id": "14ada672",
   "metadata": {},
   "source": [
    "- Repetation of tuple :\n",
    "  -  We can repeate tuple multiple times by multiplying it.\n"
   ]
  },
  {
   "cell_type": "code",
   "execution_count": null,
   "id": "8fe2e377",
   "metadata": {},
   "outputs": [],
   "source": [
    "t4 = t3 *3 \n"
   ]
  },
  {
   "cell_type": "markdown",
   "id": "a43f71b2",
   "metadata": {},
   "source": [
    "### Membership Function :\n",
    "\n",
    " 1. in :\n",
    "   - IN is used to check specific element present in list or not\n",
    "   It will show resukt in boolean vale true or false"
   ]
  },
  {
   "cell_type": "code",
   "execution_count": 20,
   "id": "dae8dd5d",
   "metadata": {},
   "outputs": [
    {
     "data": {
      "text/plain": [
       "True"
      ]
     },
     "execution_count": 20,
     "metadata": {},
     "output_type": "execute_result"
    }
   ],
   "source": [
    "tuple_1 = (2,3,323,212,3,56,8)\n",
    "\n",
    "2 in tuple_1"
   ]
  },
  {
   "cell_type": "markdown",
   "id": "61f910cb",
   "metadata": {},
   "source": [
    " 2. Not in :\n",
    "  - Not in check whether value is present in tuple or not.\n",
    "  - If value is there result will fasle"
   ]
  },
  {
   "cell_type": "code",
   "execution_count": null,
   "id": "d7cb475c",
   "metadata": {},
   "outputs": [
    {
     "data": {
      "text/plain": [
       "False"
      ]
     },
     "execution_count": 22,
     "metadata": {},
     "output_type": "execute_result"
    }
   ],
   "source": [
    "2 not in tuple_1"
   ]
  },
  {
   "cell_type": "code",
   "execution_count": null,
   "id": "59da6772",
   "metadata": {},
   "outputs": [],
   "source": []
  },
  {
   "cell_type": "code",
   "execution_count": null,
   "id": "e066df8a",
   "metadata": {},
   "outputs": [],
   "source": []
  },
  {
   "cell_type": "code",
   "execution_count": null,
   "id": "2d256383",
   "metadata": {},
   "outputs": [],
   "source": []
  },
  {
   "cell_type": "code",
   "execution_count": null,
   "id": "a428d185",
   "metadata": {},
   "outputs": [],
   "source": []
  },
  {
   "cell_type": "code",
   "execution_count": null,
   "id": "69f68758",
   "metadata": {},
   "outputs": [],
   "source": []
  },
  {
   "cell_type": "code",
   "execution_count": null,
   "id": "2efe2e35",
   "metadata": {},
   "outputs": [],
   "source": []
  },
  {
   "cell_type": "code",
   "execution_count": null,
   "id": "f6346815",
   "metadata": {},
   "outputs": [],
   "source": []
  },
  {
   "cell_type": "code",
   "execution_count": null,
   "id": "94947440",
   "metadata": {},
   "outputs": [],
   "source": []
  },
  {
   "cell_type": "code",
   "execution_count": null,
   "id": "595a6f6e",
   "metadata": {},
   "outputs": [],
   "source": []
  },
  {
   "cell_type": "code",
   "execution_count": null,
   "id": "48c9605d",
   "metadata": {},
   "outputs": [],
   "source": []
  },
  {
   "cell_type": "code",
   "execution_count": null,
   "id": "8e17f0c3",
   "metadata": {},
   "outputs": [],
   "source": []
  },
  {
   "cell_type": "code",
   "execution_count": null,
   "id": "7ccff77a",
   "metadata": {},
   "outputs": [],
   "source": []
  },
  {
   "cell_type": "code",
   "execution_count": null,
   "id": "8e0e0fbc",
   "metadata": {},
   "outputs": [],
   "source": []
  },
  {
   "cell_type": "code",
   "execution_count": null,
   "id": "153b34ec",
   "metadata": {},
   "outputs": [],
   "source": []
  },
  {
   "cell_type": "code",
   "execution_count": null,
   "id": "ccc5b238",
   "metadata": {},
   "outputs": [],
   "source": []
  },
  {
   "cell_type": "code",
   "execution_count": null,
   "id": "f80ae7ef",
   "metadata": {},
   "outputs": [],
   "source": []
  },
  {
   "cell_type": "code",
   "execution_count": null,
   "id": "f150f3bd",
   "metadata": {},
   "outputs": [],
   "source": []
  },
  {
   "cell_type": "code",
   "execution_count": null,
   "id": "b5e897b1",
   "metadata": {},
   "outputs": [],
   "source": []
  },
  {
   "cell_type": "code",
   "execution_count": null,
   "id": "9202c30f",
   "metadata": {},
   "outputs": [],
   "source": []
  },
  {
   "cell_type": "code",
   "execution_count": null,
   "id": "8da38339",
   "metadata": {},
   "outputs": [],
   "source": []
  },
  {
   "cell_type": "code",
   "execution_count": null,
   "id": "1b6ee619",
   "metadata": {},
   "outputs": [],
   "source": []
  },
  {
   "cell_type": "code",
   "execution_count": null,
   "id": "c83e9c77",
   "metadata": {},
   "outputs": [],
   "source": []
  },
  {
   "cell_type": "code",
   "execution_count": null,
   "id": "b8451da5",
   "metadata": {},
   "outputs": [],
   "source": []
  },
  {
   "cell_type": "code",
   "execution_count": null,
   "id": "a90b80c9",
   "metadata": {},
   "outputs": [],
   "source": []
  }
 ],
 "metadata": {
  "kernelspec": {
   "display_name": "Python 3",
   "language": "python",
   "name": "python3"
  },
  "language_info": {
   "codemirror_mode": {
    "name": "ipython",
    "version": 3
   },
   "file_extension": ".py",
   "mimetype": "text/x-python",
   "name": "python",
   "nbconvert_exporter": "python",
   "pygments_lexer": "ipython3",
   "version": "3.13.5"
  }
 },
 "nbformat": 4,
 "nbformat_minor": 5
}
