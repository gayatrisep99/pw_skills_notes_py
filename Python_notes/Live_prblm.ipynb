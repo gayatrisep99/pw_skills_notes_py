{
 "cells": [
  {
   "cell_type": "code",
   "execution_count": null,
   "id": "bb6c240b",
   "metadata": {},
   "outputs": [],
   "source": [
    "#Write a program to concatenate two strings: \"Hello\" and \"World\""
   ]
  },
  {
   "cell_type": "markdown",
   "id": "11f8b6eb",
   "metadata": {},
   "source": [
    "# Repeat tuple (10, 20) three times\n",
    "\n",
    "# Repeat tuple (10, 20) three times  "
   ]
  },
  {
   "cell_type": "code",
   "execution_count": null,
   "id": "70f688c4",
   "metadata": {},
   "outputs": [],
   "source": [
    "#Concatenate (1, 2, 3) and (4, 5, 6) → Output: (1, 2, 3, 4, 5, 6)."
   ]
  },
  {
   "cell_type": "markdown",
   "id": "f0e9255e",
   "metadata": {},
   "source": [
    "# Given word = \"Python\", print the first character."
   ]
  },
  {
   "cell_type": "markdown",
   "id": "9d98acf4",
   "metadata": {},
   "source": []
  },
  {
   "cell_type": "code",
   "execution_count": 34,
   "id": "0c783061",
   "metadata": {},
   "outputs": [
    {
     "name": "stdout",
     "output_type": "stream",
     "text": [
      "P\n"
     ]
    },
    {
     "data": {
      "text/plain": [
       "'n'"
      ]
     },
     "execution_count": 34,
     "metadata": {},
     "output_type": "execute_result"
    }
   ],
   "source": [
    "# Given word = \"Python\", print the first character.\n",
    "\n",
    "name = \"Python\"\n",
    "\n",
    "print(name[0])\n",
    "name[-1]"
   ]
  },
  {
   "cell_type": "code",
   "execution_count": null,
   "id": "785e25af",
   "metadata": {},
   "outputs": [],
   "source": []
  },
  {
   "cell_type": "markdown",
   "id": "2831635b",
   "metadata": {},
   "source": []
  },
  {
   "cell_type": "code",
   "execution_count": 33,
   "id": "cf0a82ed",
   "metadata": {},
   "outputs": [
    {
     "name": "stdout",
     "output_type": "stream",
     "text": [
      "asci\n"
     ]
    }
   ],
   "source": [
    "#Extract the 3rd to 6th characters from \"DataScience\".\n",
    "\n",
    "v1= \"Datascience\"\n",
    "print(v1[3:7])"
   ]
  },
  {
   "cell_type": "code",
   "execution_count": null,
   "id": "e7af4461",
   "metadata": {},
   "outputs": [],
   "source": [
    "# Print the last character of \"Programming\"."
   ]
  },
  {
   "cell_type": "code",
   "execution_count": null,
   "id": "4efedc5e",
   "metadata": {},
   "outputs": [],
   "source": [
    "# Given tup = (100, 200, 300, 400), print the 2nd element."
   ]
  },
  {
   "cell_type": "code",
   "execution_count": null,
   "id": "7fcba013",
   "metadata": {},
   "outputs": [],
   "source": [
    "# Print the last element of (5, 10, 15, 20)."
   ]
  },
  {
   "cell_type": "code",
   "execution_count": null,
   "id": "9db6aaa9",
   "metadata": {},
   "outputs": [],
   "source": [
    "# From \"Artificial\", print every 2nd character."
   ]
  },
  {
   "cell_type": "code",
   "execution_count": 18,
   "id": "b9296557",
   "metadata": {},
   "outputs": [
    {
     "data": {
      "text/plain": [
       "'dlroWolleH'"
      ]
     },
     "execution_count": 18,
     "metadata": {},
     "output_type": "execute_result"
    }
   ],
   "source": [
    "# Given word = \"Python\", extract \"Pyt\".\n",
    "\n",
    "given_word = \"Python\"\n",
    "\n",
    "given_word[0:3]"
   ]
  },
  {
   "cell_type": "code",
   "execution_count": null,
   "id": "4ea3bccd",
   "metadata": {},
   "outputs": [],
   "source": [
    "#From \"Programming\", get \"gram\".\n",
    "\n",
    "gv1 = \"programming\"\n",
    "\n",
    "gv1[3:7]"
   ]
  },
  {
   "cell_type": "code",
   "execution_count": 19,
   "id": "b824bf6b",
   "metadata": {},
   "outputs": [
    {
     "data": {
      "text/plain": [
       "'dlrowolleH'"
      ]
     },
     "execution_count": 19,
     "metadata": {},
     "output_type": "execute_result"
    }
   ],
   "source": [
    "# Reverse \"HelloWorld\" using slicing.\n",
    "gv2 = \"Helloworld\"\n",
    "\n",
    "gv2[::-1]"
   ]
  },
  {
   "cell_type": "code",
   "execution_count": 23,
   "id": "091cf843",
   "metadata": {},
   "outputs": [
    {
     "name": "stdout",
     "output_type": "stream",
     "text": [
      "DtSine\n"
     ]
    }
   ],
   "source": [
    "# Extract every 2nd character from \"DataScience\"\n",
    "\n",
    "gv3 = \"DataScience\"\n",
    "\n",
    "print(gv3[::2])"
   ]
  },
  {
   "cell_type": "code",
   "execution_count": 24,
   "id": "28ea42fc",
   "metadata": {},
   "outputs": [
    {
     "name": "stdout",
     "output_type": "stream",
     "text": [
      "Art\n"
     ]
    }
   ],
   "source": [
    "# From \"Artificial\", get the substring \"Art\".\n",
    "\n",
    "gstr = \"Artificial\"\n",
    "\n",
    "print(gstr[0:3])"
   ]
  },
  {
   "cell_type": "code",
   "execution_count": 32,
   "id": "81399f24",
   "metadata": {},
   "outputs": [
    {
     "name": "stdout",
     "output_type": "stream",
     "text": [
      "Learning\n"
     ]
    }
   ],
   "source": [
    "# From \"MachineLearning\", extract \"Learning\" using negative slicing.\n",
    "\n",
    "gstr2 = \"MachineLearning\"\n",
    "\n",
    "print(gstr2[-8:])"
   ]
  }
 ],
 "metadata": {
  "kernelspec": {
   "display_name": "Python 3",
   "language": "python",
   "name": "python3"
  },
  "language_info": {
   "codemirror_mode": {
    "name": "ipython",
    "version": 3
   },
   "file_extension": ".py",
   "mimetype": "text/x-python",
   "name": "python",
   "nbconvert_exporter": "python",
   "pygments_lexer": "ipython3",
   "version": "3.13.5"
  }
 },
 "nbformat": 4,
 "nbformat_minor": 5
}
